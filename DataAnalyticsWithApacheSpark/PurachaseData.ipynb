{
 "cells": [
  {
   "cell_type": "code",
   "execution_count": 1,
   "id": "a3bb5606",
   "metadata": {},
   "outputs": [
    {
     "data": {
      "text/plain": [
       "('/Users/axelluca/Downloads/Customers.csv',\n",
       " '/Users/axelluca/Downloads/Purchases.csv')"
      ]
     },
     "execution_count": 1,
     "metadata": {},
     "output_type": "execute_result"
    }
   ],
   "source": [
    "import pandas as pd\n",
    "import numpy as np\n",
    "import os\n",
    "\n",
    "np.random.seed(0)\n",
    "\n",
    "customer_count = 50000\n",
    "purchase_count = 5000000\n",
    "purchase_per_customer = purchase_count // customer_count\n",
    "\n",
    "customers = pd.DataFrame({\n",
    "    'ID': np.arange(1, customer_count + 1),\n",
    "    'Name': [''.join(np.random.choice(list('ABCDEFGHIJKLMNOPQRSTUVWXYZ'), size=np.random.randint(10, 21)))\n",
    "             for _ in range(customer_count)],\n",
    "    'Age': np.random.randint(18, 101, customer_count),\n",
    "    'CountryCode': np.random.randint(1, 501, customer_count),\n",
    "    'Salary': np.random.uniform(100, 10000000, customer_count)\n",
    "})\n",
    "\n",
    "purchases = pd.DataFrame({\n",
    "    'TransID': np.arange(1, purchase_count + 1),\n",
    "    'CustID': np.repeat(customers['ID'], purchase_per_customer),\n",
    "    'TransTotal': np.random.uniform(10, 2000, purchase_count),\n",
    "    'TransNumItems': np.random.randint(1, 16, purchase_count),\n",
    "    'TransDesc': [''.join(np.random.choice(list('ABCDEFGHIJKLMNOPQRSTUVWXYZ'), size=np.random.randint(20, 51)))\n",
    "                  for _ in range(purchase_count)]\n",
    "})\n",
    "\n",
    "customers_file = '/Users/axelluca/Downloads/Customers.csv'\n",
    "purchases_file = '/Users/axelluca/Downloads/Purchases.csv'\n",
    "\n",
    "customers.to_csv(customers_file, index=False)\n",
    "purchases.to_csv(purchases_file, index=False)\n",
    "\n",
    "customers_file, purchases_file\n"
   ]
  },
  {
   "cell_type": "code",
   "execution_count": null,
   "id": "2e054e8f",
   "metadata": {},
   "outputs": [],
   "source": []
  },
  {
   "cell_type": "code",
   "execution_count": null,
   "id": "60e4b44f",
   "metadata": {},
   "outputs": [],
   "source": []
  }
 ],
 "metadata": {
  "kernelspec": {
   "display_name": "Python 3 (ipykernel)",
   "language": "python",
   "name": "python3"
  },
  "language_info": {
   "codemirror_mode": {
    "name": "ipython",
    "version": 3
   },
   "file_extension": ".py",
   "mimetype": "text/x-python",
   "name": "python",
   "nbconvert_exporter": "python",
   "pygments_lexer": "ipython3",
   "version": "3.11.5"
  }
 },
 "nbformat": 4,
 "nbformat_minor": 5
}
