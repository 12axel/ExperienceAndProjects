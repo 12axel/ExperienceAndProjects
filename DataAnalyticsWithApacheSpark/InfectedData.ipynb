{
 "cells": [
  {
   "cell_type": "code",
   "execution_count": 15,
   "id": "6690ba00",
   "metadata": {},
   "outputs": [],
   "source": [
    "import pandas as pd\n",
    "import numpy as np\n",
    "import os\n",
    "\n",
    "np.random.seed(0)\n",
    "\n",
    "people_count = 10000\n",
    "infected_count = 100\n",
    "\n",
    "PEOPLE_large = pd.DataFrame({\n",
    "    'ID': np.arange(0, people_count),\n",
    "    'x': np.random.randint(0, 10001, people_count),\n",
    "    'y': np.random.randint(0, 10001, people_count),\n",
    "    'Name': [''.join(np.random.choice(list('ABCDEFGHIJKLMNOPQRSTUVWXYZ'), size=np.random.randint(10, 21))) for _ in range(people_count)],\n",
    "    'Age': np.random.randint(15, 76, people_count)\n",
    "})\n",
    "\n",
    "infected_ids = np.random.choice(PEOPLE_large['ID'], infected_count, replace=False)\n",
    "\n",
    "INFECTED_small = PEOPLE_large[PEOPLE_large['ID'].isin(infected_ids)].copy()\n",
    "INFECTED_small['Infected'] = 'yes'\n",
    "\n",
    "PEOPLE_SOME_INFECTED_large = PEOPLE_large.copy()\n",
    "PEOPLE_SOME_INFECTED_large['Infected'] = np.where(PEOPLE_SOME_INFECTED_large['ID'].isin(infected_ids), 'yes', 'no')\n",
    "\n",
    "people_large_file = '/Users/axelluca/Downloads/PEOPLE-large.csv'\n",
    "infected_small_file = '/Users/axelluca/Downloads/INFECTED-small.csv'\n",
    "people_some_infected_file = '/Users/axelluca/Downloads/PEOPLE-SOME-INFECTED-large.csv'\n",
    "\n",
    "PEOPLE_large.to_csv(people_large_file, index=False)\n",
    "INFECTED_small.to_csv(infected_small_file, index=False)\n",
    "PEOPLE_SOME_INFECTED_large.to_csv(people_some_infected_file, index=False)\n",
    "\n"
   ]
  },
  {
   "cell_type": "code",
   "execution_count": null,
   "id": "0b3eba16",
   "metadata": {},
   "outputs": [],
   "source": []
  },
  {
   "cell_type": "code",
   "execution_count": null,
   "id": "e5fb9002",
   "metadata": {},
   "outputs": [],
   "source": []
  }
 ],
 "metadata": {
  "kernelspec": {
   "display_name": "Python 3 (ipykernel)",
   "language": "python",
   "name": "python3"
  },
  "language_info": {
   "codemirror_mode": {
    "name": "ipython",
    "version": 3
   },
   "file_extension": ".py",
   "mimetype": "text/x-python",
   "name": "python",
   "nbconvert_exporter": "python",
   "pygments_lexer": "ipython3",
   "version": "3.11.5"
  }
 },
 "nbformat": 4,
 "nbformat_minor": 5
}
